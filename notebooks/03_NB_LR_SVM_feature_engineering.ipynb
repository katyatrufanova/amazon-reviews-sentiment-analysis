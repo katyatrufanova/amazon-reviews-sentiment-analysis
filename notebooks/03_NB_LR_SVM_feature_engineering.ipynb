{
  "cells": [
    {
      "cell_type": "code",
      "execution_count": null,
      "metadata": {
        "id": "Q2qf9V6Rnjit"
      },
      "outputs": [],
      "source": [
        "import numpy as np\n",
        "import pandas as pd\n",
        "import re\n",
        "import nltk\n",
        "from nltk.corpus import stopwords\n",
        "from sklearn.feature_extraction.text import CountVectorizer, TfidfVectorizer\n",
        "from sklearn.preprocessing import LabelEncoder, MinMaxScaler\n",
        "from sklearn.naive_bayes import MultinomialNB\n",
        "from sklearn.linear_model import LogisticRegression\n",
        "from sklearn.svm import LinearSVC\n",
        "from sklearn.model_selection import train_test_split, GridSearchCV, cross_val_score\n",
        "from sklearn.pipeline import Pipeline\n",
        "from sklearn.metrics import classification_report\n",
        "from sklearn.feature_selection import SelectKBest, chi2\n",
        "from scipy.sparse import hstack\n",
        "import matplotlib.pyplot as plt"
      ]
    },
    {
      "cell_type": "code",
      "execution_count": null,
      "metadata": {
        "colab": {
          "base_uri": "https://localhost:8080/"
        },
        "id": "w4Xdmg9snlIV",
        "outputId": "43ce271e-1539-4308-cc54-0adebc7ef4b1"
      },
      "outputs": [
        {
          "output_type": "stream",
          "name": "stdout",
          "text": [
            "Drive already mounted at /content/drive; to attempt to forcibly remount, call drive.mount(\"/content/drive\", force_remount=True).\n"
          ]
        }
      ],
      "source": [
        "from google.colab import drive\n",
        "drive.mount('/content/drive')"
      ]
    },
    {
      "cell_type": "code",
      "execution_count": null,
      "metadata": {
        "id": "qGMfOph2nnzQ"
      },
      "outputs": [],
      "source": [
        "# Load dataset\n",
        "file_path = '/content/drive/MyDrive/ML/Amazon_Unlocked_Mobile.csv'\n",
        "data = pd.read_csv(file_path)"
      ]
    },
    {
      "cell_type": "code",
      "execution_count": null,
      "metadata": {
        "id": "IAqNnd6_nsM8"
      },
      "outputs": [],
      "source": [
        "# Drop rows with missing values\n",
        "data = data.dropna()"
      ]
    },
    {
      "cell_type": "code",
      "execution_count": null,
      "metadata": {
        "id": "8FlkBEPin0Vh"
      },
      "outputs": [],
      "source": [
        "# Feature engineering\n",
        "data['NormalizedReviewLength'] = data['Reviews'].apply(lambda x: len(x)) / data['Reviews'].apply(lambda x: len(x)).max()\n",
        "data['ExclamationMarks'] = data['Reviews'].apply(lambda x: x.count('!'))\n",
        "data['QuestionMarks'] = data['Reviews'].apply(lambda x: x.count('?'))\n",
        "data['PercentageCapitalized'] = data['Reviews'].apply(lambda x: sum(1 for c in x if c.isupper())) / data['Reviews'].apply(lambda x: len(x))"
      ]
    },
    {
      "cell_type": "code",
      "execution_count": null,
      "metadata": {
        "id": "7VDOQ4Vpnppz"
      },
      "outputs": [],
      "source": [
        "# Text preprocessing\n",
        "def clean_text(text):\n",
        "    text = re.sub(r'<.*?>', '', text)\n",
        "    text = re.sub(r'\\d+', '', text)\n",
        "    text = text.lower()\n",
        "    text = re.sub(r'[^\\w\\s]', '', text)\n",
        "    text = \" \".join([word for word in text.split() if word not in stopwords.words('english')])\n",
        "    return text"
      ]
    },
    {
      "cell_type": "code",
      "execution_count": null,
      "metadata": {
        "colab": {
          "base_uri": "https://localhost:8080/"
        },
        "id": "mp8E0r79nt4W",
        "outputId": "daa4be7c-b737-4e69-d6e9-97a4bc3806d5"
      },
      "outputs": [
        {
          "output_type": "stream",
          "name": "stderr",
          "text": [
            "[nltk_data] Downloading package stopwords to /root/nltk_data...\n",
            "[nltk_data]   Package stopwords is already up-to-date!\n"
          ]
        },
        {
          "output_type": "execute_result",
          "data": {
            "text/plain": [
              "True"
            ]
          },
          "metadata": {},
          "execution_count": 6
        }
      ],
      "source": [
        "nltk.download('stopwords')"
      ]
    },
    {
      "cell_type": "code",
      "execution_count": null,
      "metadata": {
        "id": "Xpf-it68nv9v"
      },
      "outputs": [],
      "source": [
        "data['CleanedReviews'] = data['Reviews'].apply(clean_text)"
      ]
    },
    {
      "cell_type": "code",
      "execution_count": null,
      "metadata": {
        "id": "93N2eC6RnxjW"
      },
      "outputs": [],
      "source": [
        "# Label encoding\n",
        "def sentiment(rating):\n",
        "    if rating < 3:\n",
        "        return 'negative'\n",
        "    elif rating == 3:\n",
        "        return 'neutral'\n",
        "    else:\n",
        "        return 'positive'"
      ]
    },
    {
      "cell_type": "code",
      "execution_count": null,
      "metadata": {
        "id": "J1wjb-ocnzES"
      },
      "outputs": [],
      "source": [
        "data['Sentiment'] = data['Rating'].apply(sentiment)"
      ]
    },
    {
      "cell_type": "code",
      "execution_count": null,
      "metadata": {
        "id": "9bc0tEpXn1uz"
      },
      "outputs": [],
      "source": [
        "# Split dataset into training and testing sets\n",
        "X = data[['CleanedReviews', 'NormalizedReviewLength', 'ExclamationMarks', 'QuestionMarks', 'PercentageCapitalized']]\n",
        "y = data['Sentiment']\n",
        "\n",
        "X_train, X_test, y_train, y_test = train_test_split(X, y, test_size=0.2, random_state=42, stratify=y)"
      ]
    },
    {
      "cell_type": "code",
      "execution_count": null,
      "metadata": {
        "id": "PEIpIV4ln34e"
      },
      "outputs": [],
      "source": [
        "# Feature extraction\n",
        "count_vectorizer = CountVectorizer(stop_words='english', ngram_range=(1,2), max_features=5000)\n",
        "tfidf_vectorizer = TfidfVectorizer(stop_words='english', ngram_range=(1,2), max_features=5000)\n",
        "\n",
        "X_train_bow = count_vectorizer.fit_transform(X_train['CleanedReviews'])\n",
        "X_test_bow = count_vectorizer.transform(X_test['CleanedReviews'])\n",
        "\n",
        "X_train_tfidf = tfidf_vectorizer.fit_transform(X_train['CleanedReviews'])\n",
        "X_test_tfidf = tfidf_vectorizer.transform(X_test['CleanedReviews'])"
      ]
    },
    {
      "cell_type": "code",
      "source": [
        "from sklearn.preprocessing import MinMaxScaler, MaxAbsScaler"
      ],
      "metadata": {
        "id": "3aDpn8PMrXV5"
      },
      "execution_count": null,
      "outputs": []
    },
    {
      "cell_type": "code",
      "source": [
        "# Scale the numeric features\n",
        "numeric_scaler = MinMaxScaler()\n",
        "X_train_numeric = numeric_scaler.fit_transform(X_train.iloc[:, 1:].values)\n",
        "X_test_numeric = numeric_scaler.transform(X_test.iloc[:, 1:].values)\n",
        "\n",
        "# Combine features\n",
        "X_train_combined = hstack([X_train_bow, X_train_tfidf, X_train_numeric])\n",
        "X_test_combined = hstack([X_test_bow, X_test_tfidf, X_test_numeric])\n",
        "\n",
        "# Scale the combined features\n",
        "scaler = MaxAbsScaler()\n",
        "X_train_combined = scaler.fit_transform(X_train_combined)\n",
        "X_test_combined = scaler.transform(X_test_combined)"
      ],
      "metadata": {
        "id": "zdvp16EjrOEV"
      },
      "execution_count": null,
      "outputs": []
    },
    {
      "cell_type": "code",
      "source": [
        "label_encoder = LabelEncoder()\n",
        "y_train_encoded = label_encoder.fit_transform(y_train)\n",
        "y_test_encoded = label_encoder.transform(y_test)"
      ],
      "metadata": {
        "id": "tsAodm6b7ask"
      },
      "execution_count": null,
      "outputs": []
    },
    {
      "cell_type": "code",
      "execution_count": null,
      "metadata": {
        "id": "cmifodIWUIo2"
      },
      "outputs": [],
      "source": [
        "from sklearn.feature_selection import SelectKBest, mutual_info_classif"
      ]
    },
    {
      "cell_type": "code",
      "execution_count": null,
      "metadata": {
        "id": "boiKk7eoyg_I"
      },
      "outputs": [],
      "source": [
        "# Feature selection\n",
        "k = int(0.5 * X_train_combined.shape[1])  # Select top 50% features\n",
        "selector = SelectKBest(mutual_info_classif, k=k)\n",
        "X_train_selected = selector.fit_transform(X_train_combined, y_train_encoded)\n",
        "X_test_selected = selector.transform(X_test_combined)"
      ]
    },
    {
      "cell_type": "code",
      "execution_count": null,
      "metadata": {
        "id": "XQlWPxMg9ZF4"
      },
      "outputs": [],
      "source": [
        "bow_feature_names = count_vectorizer.get_feature_names_out()\n",
        "tfidf_feature_names = tfidf_vectorizer.get_feature_names_out()\n",
        "engineered_features = ['ReviewLength', 'ExclamationMarks', 'QuestionMarks', 'PercentageCapitalized']\n",
        "feature_names = np.concatenate((bow_feature_names, tfidf_feature_names, engineered_features), axis=0)"
      ]
    },
    {
      "cell_type": "code",
      "execution_count": null,
      "metadata": {
        "colab": {
          "base_uri": "https://localhost:8080/",
          "height": 629
        },
        "id": "sKN-VudCyh0U",
        "outputId": "c3d1b53b-fa52-4f3e-cab6-bbf99f4d0e8c"
      },
      "outputs": [
        {
          "output_type": "display_data",
          "data": {
            "text/plain": [
              "<Figure size 1000x500 with 1 Axes>"
            ],
            "image/png": "[encoded data removed]"
          },
          "metadata": {}
        }
      ],
      "source": [
        "feature_importances = selector.scores_\n",
        "indices = np.argsort(feature_importances)[-15:][::-1]  # Show top 15 features\n",
        "top_features = [feature_names[i] for i in indices]\n",
        "\n",
        "plt.figure(figsize=(10, 5))\n",
        "plt.bar(range(15), feature_importances[indices], align='center')\n",
        "plt.xticks(range(15), top_features, rotation=90)\n",
        "plt.xlabel('Feature Name')\n",
        "plt.ylabel('Feature Importance')\n",
        "plt.title('Top 15 Features')\n",
        "plt.show()"
      ]
    },
    {
      "cell_type": "code",
      "execution_count": null,
      "metadata": {
        "id": "zD6edGzfyllZ"
      },
      "outputs": [],
      "source": [
        "X_train_chi2 = X_train_selected\n",
        "X_test_chi2 = X_test_selected"
      ]
    },
    {
      "cell_type": "code",
      "execution_count": null,
      "metadata": {
        "id": "W5vmVaNE56XZ"
      },
      "outputs": [],
      "source": [
        "from sklearn.metrics import classification_report, make_scorer, accuracy_score\n",
        "from sklearn.model_selection import cross_val_score, RepeatedKFold"
      ]
    },
    {
      "cell_type": "code",
      "execution_count": null,
      "metadata": {
        "id": "zBjKWYpnHIGS"
      },
      "outputs": [],
      "source": [
        "cv = RepeatedKFold(n_splits=10, n_repeats=1, random_state=42)\n",
        "scoring = make_scorer(accuracy_score)"
      ]
    },
    {
      "cell_type": "markdown",
      "metadata": {
        "id": "xJW9qXixoCkd"
      },
      "source": [
        "##Naive Bayes"
      ]
    },
    {
      "cell_type": "code",
      "execution_count": null,
      "metadata": {
        "id": "wgZLxg_QoFeP",
        "colab": {
          "base_uri": "https://localhost:8080/",
          "height": 117
        },
        "outputId": "536bd29d-fb7c-498c-b299-fdec7de62091"
      },
      "outputs": [
        {
          "output_type": "execute_result",
          "data": {
            "text/plain": [
              "GridSearchCV(cv=RepeatedKFold(n_repeats=1, n_splits=10, random_state=42),\n",
              "             estimator=Pipeline(steps=[('clf', MultinomialNB())]), n_jobs=-1,\n",
              "             param_grid={'clf__alpha': [0.1, 0.5, 1]},\n",
              "             scoring=make_scorer(accuracy_score))"
            ],
            "text/html": [
              "<style>#sk-container-id-1 {color: black;background-color: white;}#sk-container-id-1 pre{padding: 0;}#sk-container-id-1 div.sk-toggleable {background-color: white;}#sk-container-id-1 label.sk-toggleable__label {cursor: pointer;display: block;width: 100%;margin-bottom: 0;padding: 0.3em;box-sizing: border-box;text-align: center;}#sk-container-id-1 label.sk-toggleable__label-arrow:before {content: \"▸\";float: left;margin-right: 0.25em;color: #696969;}#sk-container-id-1 label.sk-toggleable__label-arrow:hover:before {color: black;}#sk-container-id-1 div.sk-estimator:hover label.sk-toggleable__label-arrow:before {color: black;}#sk-container-id-1 div.sk-toggleable__content {max-height: 0;max-width: 0;overflow: hidden;text-align: left;background-color: #f0f8ff;}#sk-container-id-1 div.sk-toggleable__content pre {margin: 0.2em;color: black;border-radius: 0.25em;background-color: #f0f8ff;}#sk-container-id-1 input.sk-toggleable__control:checked~div.sk-toggleable__content {max-height: 200px;max-width: 100%;overflow: auto;}#sk-container-id-1 input.sk-toggleable__control:checked~label.sk-toggleable__label-arrow:before {content: \"▾\";}#sk-container-id-1 div.sk-estimator input.sk-toggleable__control:checked~label.sk-toggleable__label {background-color: #d4ebff;}#sk-container-id-1 div.sk-label input.sk-toggleable__control:checked~label.sk-toggleable__label {background-color: #d4ebff;}#sk-container-id-1 input.sk-hidden--visually {border: 0;clip: rect(1px 1px 1px 1px);clip: rect(1px, 1px, 1px, 1px);height: 1px;margin: -1px;overflow: hidden;padding: 0;position: absolute;width: 1px;}#sk-container-id-1 div.sk-estimator {font-family: monospace;background-color: #f0f8ff;border: 1px dotted black;border-radius: 0.25em;box-sizing: border-box;margin-bottom: 0.5em;}#sk-container-id-1 div.sk-estimator:hover {background-color: #d4ebff;}#sk-container-id-1 div.sk-parallel-item::after {content: \"\";width: 100%;border-bottom: 1px solid gray;flex-grow: 1;}#sk-container-id-1 div.sk-label:hover label.sk-toggleable__label {background-color: #d4ebff;}#sk-container-id-1 div.sk-serial::before {content: \"\";position: absolute;border-left: 1px solid gray;box-sizing: border-box;top: 0;bottom: 0;left: 50%;z-index: 0;}#sk-container-id-1 div.sk-serial {display: flex;flex-direction: column;align-items: center;background-color: white;padding-right: 0.2em;padding-left: 0.2em;position: relative;}#sk-container-id-1 div.sk-item {position: relative;z-index: 1;}#sk-container-id-1 div.sk-parallel {display: flex;align-items: stretch;justify-content: center;background-color: white;position: relative;}#sk-container-id-1 div.sk-item::before, #sk-container-id-1 div.sk-parallel-item::before {content: \"\";position: absolute;border-left: 1px solid gray;box-sizing: border-box;top: 0;bottom: 0;left: 50%;z-index: -1;}#sk-container-id-1 div.sk-parallel-item {display: flex;flex-direction: column;z-index: 1;position: relative;background-color: white;}#sk-container-id-1 div.sk-parallel-item:first-child::after {align-self: flex-end;width: 50%;}#sk-container-id-1 div.sk-parallel-item:last-child::after {align-self: flex-start;width: 50%;}#sk-container-id-1 div.sk-parallel-item:only-child::after {width: 0;}#sk-container-id-1 div.sk-dashed-wrapped {border: 1px dashed gray;margin: 0 0.4em 0.5em 0.4em;box-sizing: border-box;padding-bottom: 0.4em;background-color: white;}#sk-container-id-1 div.sk-label label {font-family: monospace;font-weight: bold;display: inline-block;line-height: 1.2em;}#sk-container-id-1 div.sk-label-container {text-align: center;}#sk-container-id-1 div.sk-container {/* jupyter's `normalize.less` sets `[hidden] { display: none; }` but bootstrap.min.css set `[hidden] { display: none !important; }` so we also need the `!important` here to be able to override the default hidden behavior on the sphinx rendered scikit-learn.org. See: https://github.com/scikit-learn/scikit-learn/issues/21755 */display: inline-block !important;position: relative;}#sk-container-id-1 div.sk-text-repr-fallback {display: none;}</style><div id=\"sk-container-id-1\" class=\"sk-top-container\"><div class=\"sk-text-repr-fallback\"><pre>GridSearchCV(cv=RepeatedKFold(n_repeats=1, n_splits=10, random_state=42),\n",
              "             estimator=Pipeline(steps=[(&#x27;clf&#x27;, MultinomialNB())]), n_jobs=-1,\n",
              "             param_grid={&#x27;clf__alpha&#x27;: [0.1, 0.5, 1]},\n",
              "             scoring=make_scorer(accuracy_score))</pre><b>In a Jupyter environment, please rerun this cell to show the HTML representation or trust the notebook. <br />On GitHub, the HTML representation is unable to render, please try loading this page with nbviewer.org.</b></div><div class=\"sk-container\" hidden><div class=\"sk-item sk-dashed-wrapped\"><div class=\"sk-label-container\"><div class=\"sk-label sk-toggleable\"><input class=\"sk-toggleable__control sk-hidden--visually\" id=\"sk-estimator-id-1\" type=\"checkbox\" ><label for=\"sk-estimator-id-1\" class=\"sk-toggleable__label sk-toggleable__label-arrow\">GridSearchCV</label><div class=\"sk-toggleable__content\"><pre>GridSearchCV(cv=RepeatedKFold(n_repeats=1, n_splits=10, random_state=42),\n",
              "             estimator=Pipeline(steps=[(&#x27;clf&#x27;, MultinomialNB())]), n_jobs=-1,\n",
              "             param_grid={&#x27;clf__alpha&#x27;: [0.1, 0.5, 1]},\n",
              "             scoring=make_scorer(accuracy_score))</pre></div></div></div><div class=\"sk-parallel\"><div class=\"sk-parallel-item\"><div class=\"sk-item\"><div class=\"sk-label-container\"><div class=\"sk-label sk-toggleable\"><input class=\"sk-toggleable__control sk-hidden--visually\" id=\"sk-estimator-id-2\" type=\"checkbox\" ><label for=\"sk-estimator-id-2\" class=\"sk-toggleable__label sk-toggleable__label-arrow\">estimator: Pipeline</label><div class=\"sk-toggleable__content\"><pre>Pipeline(steps=[(&#x27;clf&#x27;, MultinomialNB())])</pre></div></div></div><div class=\"sk-serial\"><div class=\"sk-item\"><div class=\"sk-serial\"><div class=\"sk-item\"><div class=\"sk-estimator sk-toggleable\"><input class=\"sk-toggleable__control sk-hidden--visually\" id=\"sk-estimator-id-3\" type=\"checkbox\" ><label for=\"sk-estimator-id-3\" class=\"sk-toggleable__label sk-toggleable__label-arrow\">MultinomialNB</label><div class=\"sk-toggleable__content\"><pre>MultinomialNB()</pre></div></div></div></div></div></div></div></div></div></div></div></div>"
            ]
          },
          "metadata": {},
          "execution_count": 43
        }
      ],
      "source": [
        "naive_bayes_pipeline = Pipeline([\n",
        "    ('clf', MultinomialNB())\n",
        "])\n",
        "\n",
        "naive_bayes_param_grid = {\n",
        "    'clf__alpha': [0.1, 0.5, 1]\n",
        "}\n",
        "\n",
        "naive_bayes_grid = GridSearchCV(naive_bayes_pipeline, param_grid=naive_bayes_param_grid, cv=cv, n_jobs=-1, scoring=scoring)\n",
        "naive_bayes_grid.fit(X_train_chi2, y_train_encoded)"
      ]
    },
    {
      "cell_type": "markdown",
      "metadata": {
        "id": "KBdC11K9oHkZ"
      },
      "source": [
        "##Logistic Regression"
      ]
    },
    {
      "cell_type": "code",
      "execution_count": null,
      "metadata": {
        "id": "oL-Y0gdcoGzp",
        "colab": {
          "base_uri": "https://localhost:8080/",
          "height": 117
        },
        "outputId": "cca3f883-ece3-4beb-d810-8a64d0a00f03"
      },
      "outputs": [
        {
          "output_type": "execute_result",
          "data": {
            "text/plain": [
              "GridSearchCV(cv=RepeatedKFold(n_repeats=1, n_splits=10, random_state=42),\n",
              "             estimator=Pipeline(steps=[('clf',\n",
              "                                        LogisticRegression(max_iter=1000))]),\n",
              "             n_jobs=-1,\n",
              "             param_grid={'clf__C': [0.1, 1, 10], 'clf__penalty': ['l1', 'l2'],\n",
              "                         'clf__solver': ['liblinear']},\n",
              "             scoring=make_scorer(accuracy_score))"
            ],
            "text/html": [
              "<style>#sk-container-id-2 {color: black;background-color: white;}#sk-container-id-2 pre{padding: 0;}#sk-container-id-2 div.sk-toggleable {background-color: white;}#sk-container-id-2 label.sk-toggleable__label {cursor: pointer;display: block;width: 100%;margin-bottom: 0;padding: 0.3em;box-sizing: border-box;text-align: center;}#sk-container-id-2 label.sk-toggleable__label-arrow:before {content: \"▸\";float: left;margin-right: 0.25em;color: #696969;}#sk-container-id-2 label.sk-toggleable__label-arrow:hover:before {color: black;}#sk-container-id-2 div.sk-estimator:hover label.sk-toggleable__label-arrow:before {color: black;}#sk-container-id-2 div.sk-toggleable__content {max-height: 0;max-width: 0;overflow: hidden;text-align: left;background-color: #f0f8ff;}#sk-container-id-2 div.sk-toggleable__content pre {margin: 0.2em;color: black;border-radius: 0.25em;background-color: #f0f8ff;}#sk-container-id-2 input.sk-toggleable__control:checked~div.sk-toggleable__content {max-height: 200px;max-width: 100%;overflow: auto;}#sk-container-id-2 input.sk-toggleable__control:checked~label.sk-toggleable__label-arrow:before {content: \"▾\";}#sk-container-id-2 div.sk-estimator input.sk-toggleable__control:checked~label.sk-toggleable__label {background-color: #d4ebff;}#sk-container-id-2 div.sk-label input.sk-toggleable__control:checked~label.sk-toggleable__label {background-color: #d4ebff;}#sk-container-id-2 input.sk-hidden--visually {border: 0;clip: rect(1px 1px 1px 1px);clip: rect(1px, 1px, 1px, 1px);height: 1px;margin: -1px;overflow: hidden;padding: 0;position: absolute;width: 1px;}#sk-container-id-2 div.sk-estimator {font-family: monospace;background-color: #f0f8ff;border: 1px dotted black;border-radius: 0.25em;box-sizing: border-box;margin-bottom: 0.5em;}#sk-container-id-2 div.sk-estimator:hover {background-color: #d4ebff;}#sk-container-id-2 div.sk-parallel-item::after {content: \"\";width: 100%;border-bottom: 1px solid gray;flex-grow: 1;}#sk-container-id-2 div.sk-label:hover label.sk-toggleable__label {background-color: #d4ebff;}#sk-container-id-2 div.sk-serial::before {content: \"\";position: absolute;border-left: 1px solid gray;box-sizing: border-box;top: 0;bottom: 0;left: 50%;z-index: 0;}#sk-container-id-2 div.sk-serial {display: flex;flex-direction: column;align-items: center;background-color: white;padding-right: 0.2em;padding-left: 0.2em;position: relative;}#sk-container-id-2 div.sk-item {position: relative;z-index: 1;}#sk-container-id-2 div.sk-parallel {display: flex;align-items: stretch;justify-content: center;background-color: white;position: relative;}#sk-container-id-2 div.sk-item::before, #sk-container-id-2 div.sk-parallel-item::before {content: \"\";position: absolute;border-left: 1px solid gray;box-sizing: border-box;top: 0;bottom: 0;left: 50%;z-index: -1;}#sk-container-id-2 div.sk-parallel-item {display: flex;flex-direction: column;z-index: 1;position: relative;background-color: white;}#sk-container-id-2 div.sk-parallel-item:first-child::after {align-self: flex-end;width: 50%;}#sk-container-id-2 div.sk-parallel-item:last-child::after {align-self: flex-start;width: 50%;}#sk-container-id-2 div.sk-parallel-item:only-child::after {width: 0;}#sk-container-id-2 div.sk-dashed-wrapped {border: 1px dashed gray;margin: 0 0.4em 0.5em 0.4em;box-sizing: border-box;padding-bottom: 0.4em;background-color: white;}#sk-container-id-2 div.sk-label label {font-family: monospace;font-weight: bold;display: inline-block;line-height: 1.2em;}#sk-container-id-2 div.sk-label-container {text-align: center;}#sk-container-id-2 div.sk-container {/* jupyter's `normalize.less` sets `[hidden] { display: none; }` but bootstrap.min.css set `[hidden] { display: none !important; }` so we also need the `!important` here to be able to override the default hidden behavior on the sphinx rendered scikit-learn.org. See: https://github.com/scikit-learn/scikit-learn/issues/21755 */display: inline-block !important;position: relative;}#sk-container-id-2 div.sk-text-repr-fallback {display: none;}</style><div id=\"sk-container-id-2\" class=\"sk-top-container\"><div class=\"sk-text-repr-fallback\"><pre>GridSearchCV(cv=RepeatedKFold(n_repeats=1, n_splits=10, random_state=42),\n",
              "             estimator=Pipeline(steps=[(&#x27;clf&#x27;,\n",
              "                                        LogisticRegression(max_iter=1000))]),\n",
              "             n_jobs=-1,\n",
              "             param_grid={&#x27;clf__C&#x27;: [0.1, 1, 10], &#x27;clf__penalty&#x27;: [&#x27;l1&#x27;, &#x27;l2&#x27;],\n",
              "                         &#x27;clf__solver&#x27;: [&#x27;liblinear&#x27;]},\n",
              "             scoring=make_scorer(accuracy_score))</pre><b>In a Jupyter environment, please rerun this cell to show the HTML representation or trust the notebook. <br />On GitHub, the HTML representation is unable to render, please try loading this page with nbviewer.org.</b></div><div class=\"sk-container\" hidden><div class=\"sk-item sk-dashed-wrapped\"><div class=\"sk-label-container\"><div class=\"sk-label sk-toggleable\"><input class=\"sk-toggleable__control sk-hidden--visually\" id=\"sk-estimator-id-4\" type=\"checkbox\" ><label for=\"sk-estimator-id-4\" class=\"sk-toggleable__label sk-toggleable__label-arrow\">GridSearchCV</label><div class=\"sk-toggleable__content\"><pre>GridSearchCV(cv=RepeatedKFold(n_repeats=1, n_splits=10, random_state=42),\n",
              "             estimator=Pipeline(steps=[(&#x27;clf&#x27;,\n",
              "                                        LogisticRegression(max_iter=1000))]),\n",
              "             n_jobs=-1,\n",
              "             param_grid={&#x27;clf__C&#x27;: [0.1, 1, 10], &#x27;clf__penalty&#x27;: [&#x27;l1&#x27;, &#x27;l2&#x27;],\n",
              "                         &#x27;clf__solver&#x27;: [&#x27;liblinear&#x27;]},\n",
              "             scoring=make_scorer(accuracy_score))</pre></div></div></div><div class=\"sk-parallel\"><div class=\"sk-parallel-item\"><div class=\"sk-item\"><div class=\"sk-label-container\"><div class=\"sk-label sk-toggleable\"><input class=\"sk-toggleable__control sk-hidden--visually\" id=\"sk-estimator-id-5\" type=\"checkbox\" ><label for=\"sk-estimator-id-5\" class=\"sk-toggleable__label sk-toggleable__label-arrow\">estimator: Pipeline</label><div class=\"sk-toggleable__content\"><pre>Pipeline(steps=[(&#x27;clf&#x27;, LogisticRegression(max_iter=1000))])</pre></div></div></div><div class=\"sk-serial\"><div class=\"sk-item\"><div class=\"sk-serial\"><div class=\"sk-item\"><div class=\"sk-estimator sk-toggleable\"><input class=\"sk-toggleable__control sk-hidden--visually\" id=\"sk-estimator-id-6\" type=\"checkbox\" ><label for=\"sk-estimator-id-6\" class=\"sk-toggleable__label sk-toggleable__label-arrow\">LogisticRegression</label><div class=\"sk-toggleable__content\"><pre>LogisticRegression(max_iter=1000)</pre></div></div></div></div></div></div></div></div></div></div></div></div>"
            ]
          },
          "metadata": {},
          "execution_count": 44
        }
      ],
      "source": [
        "logistic_regression_pipeline = Pipeline([\n",
        "    ('clf', LogisticRegression(max_iter=1000))\n",
        "])\n",
        "\n",
        "logistic_regression_param_grid = {\n",
        "    'clf__C': [0.1, 1, 10],\n",
        "    'clf__penalty': ['l1', 'l2'],\n",
        "    'clf__solver': ['liblinear']\n",
        "}\n",
        "\n",
        "logistic_regression_grid = GridSearchCV(logistic_regression_pipeline, param_grid=logistic_regression_param_grid, cv=cv, n_jobs=-1, scoring=scoring)\n",
        "logistic_regression_grid.fit(X_train_chi2, y_train_encoded)"
      ]
    },
    {
      "cell_type": "markdown",
      "metadata": {
        "id": "ZuBraYkaoH_b"
      },
      "source": [
        "##Support Vector Machines"
      ]
    },
    {
      "cell_type": "code",
      "execution_count": null,
      "metadata": {
        "id": "xn8nebMXoIVj",
        "colab": {
          "base_uri": "https://localhost:8080/",
          "height": 154
        },
        "outputId": "a2f8dac2-846c-4ed3-9529-0c7700b0d0aa"
      },
      "outputs": [
        {
          "output_type": "stream",
          "name": "stderr",
          "text": [
            "/usr/local/lib/python3.10/dist-packages/sklearn/svm/_base.py:1244: ConvergenceWarning: Liblinear failed to converge, increase the number of iterations.\n",
            "  warnings.warn(\n"
          ]
        },
        {
          "output_type": "execute_result",
          "data": {
            "text/plain": [
              "GridSearchCV(cv=RepeatedKFold(n_repeats=1, n_splits=10, random_state=42),\n",
              "             estimator=Pipeline(steps=[('clf', LinearSVC())]), n_jobs=-1,\n",
              "             param_grid={'clf__C': [0.1, 1, 10]},\n",
              "             scoring=make_scorer(accuracy_score))"
            ],
            "text/html": [
              "<style>#sk-container-id-3 {color: black;background-color: white;}#sk-container-id-3 pre{padding: 0;}#sk-container-id-3 div.sk-toggleable {background-color: white;}#sk-container-id-3 label.sk-toggleable__label {cursor: pointer;display: block;width: 100%;margin-bottom: 0;padding: 0.3em;box-sizing: border-box;text-align: center;}#sk-container-id-3 label.sk-toggleable__label-arrow:before {content: \"▸\";float: left;margin-right: 0.25em;color: #696969;}#sk-container-id-3 label.sk-toggleable__label-arrow:hover:before {color: black;}#sk-container-id-3 div.sk-estimator:hover label.sk-toggleable__label-arrow:before {color: black;}#sk-container-id-3 div.sk-toggleable__content {max-height: 0;max-width: 0;overflow: hidden;text-align: left;background-color: #f0f8ff;}#sk-container-id-3 div.sk-toggleable__content pre {margin: 0.2em;color: black;border-radius: 0.25em;background-color: #f0f8ff;}#sk-container-id-3 input.sk-toggleable__control:checked~div.sk-toggleable__content {max-height: 200px;max-width: 100%;overflow: auto;}#sk-container-id-3 input.sk-toggleable__control:checked~label.sk-toggleable__label-arrow:before {content: \"▾\";}#sk-container-id-3 div.sk-estimator input.sk-toggleable__control:checked~label.sk-toggleable__label {background-color: #d4ebff;}#sk-container-id-3 div.sk-label input.sk-toggleable__control:checked~label.sk-toggleable__label {background-color: #d4ebff;}#sk-container-id-3 input.sk-hidden--visually {border: 0;clip: rect(1px 1px 1px 1px);clip: rect(1px, 1px, 1px, 1px);height: 1px;margin: -1px;overflow: hidden;padding: 0;position: absolute;width: 1px;}#sk-container-id-3 div.sk-estimator {font-family: monospace;background-color: #f0f8ff;border: 1px dotted black;border-radius: 0.25em;box-sizing: border-box;margin-bottom: 0.5em;}#sk-container-id-3 div.sk-estimator:hover {background-color: #d4ebff;}#sk-container-id-3 div.sk-parallel-item::after {content: \"\";width: 100%;border-bottom: 1px solid gray;flex-grow: 1;}#sk-container-id-3 div.sk-label:hover label.sk-toggleable__label {background-color: #d4ebff;}#sk-container-id-3 div.sk-serial::before {content: \"\";position: absolute;border-left: 1px solid gray;box-sizing: border-box;top: 0;bottom: 0;left: 50%;z-index: 0;}#sk-container-id-3 div.sk-serial {display: flex;flex-direction: column;align-items: center;background-color: white;padding-right: 0.2em;padding-left: 0.2em;position: relative;}#sk-container-id-3 div.sk-item {position: relative;z-index: 1;}#sk-container-id-3 div.sk-parallel {display: flex;align-items: stretch;justify-content: center;background-color: white;position: relative;}#sk-container-id-3 div.sk-item::before, #sk-container-id-3 div.sk-parallel-item::before {content: \"\";position: absolute;border-left: 1px solid gray;box-sizing: border-box;top: 0;bottom: 0;left: 50%;z-index: -1;}#sk-container-id-3 div.sk-parallel-item {display: flex;flex-direction: column;z-index: 1;position: relative;background-color: white;}#sk-container-id-3 div.sk-parallel-item:first-child::after {align-self: flex-end;width: 50%;}#sk-container-id-3 div.sk-parallel-item:last-child::after {align-self: flex-start;width: 50%;}#sk-container-id-3 div.sk-parallel-item:only-child::after {width: 0;}#sk-container-id-3 div.sk-dashed-wrapped {border: 1px dashed gray;margin: 0 0.4em 0.5em 0.4em;box-sizing: border-box;padding-bottom: 0.4em;background-color: white;}#sk-container-id-3 div.sk-label label {font-family: monospace;font-weight: bold;display: inline-block;line-height: 1.2em;}#sk-container-id-3 div.sk-label-container {text-align: center;}#sk-container-id-3 div.sk-container {/* jupyter's `normalize.less` sets `[hidden] { display: none; }` but bootstrap.min.css set `[hidden] { display: none !important; }` so we also need the `!important` here to be able to override the default hidden behavior on the sphinx rendered scikit-learn.org. See: https://github.com/scikit-learn/scikit-learn/issues/21755 */display: inline-block !important;position: relative;}#sk-container-id-3 div.sk-text-repr-fallback {display: none;}</style><div id=\"sk-container-id-3\" class=\"sk-top-container\"><div class=\"sk-text-repr-fallback\"><pre>GridSearchCV(cv=RepeatedKFold(n_repeats=1, n_splits=10, random_state=42),\n",
              "             estimator=Pipeline(steps=[(&#x27;clf&#x27;, LinearSVC())]), n_jobs=-1,\n",
              "             param_grid={&#x27;clf__C&#x27;: [0.1, 1, 10]},\n",
              "             scoring=make_scorer(accuracy_score))</pre><b>In a Jupyter environment, please rerun this cell to show the HTML representation or trust the notebook. <br />On GitHub, the HTML representation is unable to render, please try loading this page with nbviewer.org.</b></div><div class=\"sk-container\" hidden><div class=\"sk-item sk-dashed-wrapped\"><div class=\"sk-label-container\"><div class=\"sk-label sk-toggleable\"><input class=\"sk-toggleable__control sk-hidden--visually\" id=\"sk-estimator-id-7\" type=\"checkbox\" ><label for=\"sk-estimator-id-7\" class=\"sk-toggleable__label sk-toggleable__label-arrow\">GridSearchCV</label><div class=\"sk-toggleable__content\"><pre>GridSearchCV(cv=RepeatedKFold(n_repeats=1, n_splits=10, random_state=42),\n",
              "             estimator=Pipeline(steps=[(&#x27;clf&#x27;, LinearSVC())]), n_jobs=-1,\n",
              "             param_grid={&#x27;clf__C&#x27;: [0.1, 1, 10]},\n",
              "             scoring=make_scorer(accuracy_score))</pre></div></div></div><div class=\"sk-parallel\"><div class=\"sk-parallel-item\"><div class=\"sk-item\"><div class=\"sk-label-container\"><div class=\"sk-label sk-toggleable\"><input class=\"sk-toggleable__control sk-hidden--visually\" id=\"sk-estimator-id-8\" type=\"checkbox\" ><label for=\"sk-estimator-id-8\" class=\"sk-toggleable__label sk-toggleable__label-arrow\">estimator: Pipeline</label><div class=\"sk-toggleable__content\"><pre>Pipeline(steps=[(&#x27;clf&#x27;, LinearSVC())])</pre></div></div></div><div class=\"sk-serial\"><div class=\"sk-item\"><div class=\"sk-serial\"><div class=\"sk-item\"><div class=\"sk-estimator sk-toggleable\"><input class=\"sk-toggleable__control sk-hidden--visually\" id=\"sk-estimator-id-9\" type=\"checkbox\" ><label for=\"sk-estimator-id-9\" class=\"sk-toggleable__label sk-toggleable__label-arrow\">LinearSVC</label><div class=\"sk-toggleable__content\"><pre>LinearSVC()</pre></div></div></div></div></div></div></div></div></div></div></div></div>"
            ]
          },
          "metadata": {},
          "execution_count": 45
        }
      ],
      "source": [
        "svm_pipeline = Pipeline([\n",
        "    ('clf', LinearSVC(max_iter=1000))\n",
        "])\n",
        "\n",
        "svm_param_grid = {\n",
        "    'clf__C': [0.1, 1, 10]\n",
        "}\n",
        "\n",
        "svm_grid = GridSearchCV(svm_pipeline, param_grid=svm_param_grid, cv=cv, n_jobs=-1, scoring=scoring)\n",
        "svm_grid.fit(X_train_chi2, y_train_encoded)"
      ]
    },
    {
      "cell_type": "code",
      "execution_count": null,
      "metadata": {
        "id": "SiYLlV_1Hm4g",
        "colab": {
          "base_uri": "https://localhost:8080/"
        },
        "outputId": "95a3d2a4-6ab3-403d-8f68-c0edfb2037f4"
      },
      "outputs": [
        {
          "output_type": "execute_result",
          "data": {
            "text/plain": [
              "{'mean_fit_time': array([0.41884646, 0.29951053, 0.19667728]),\n",
              " 'std_fit_time': array([0.03802694, 0.08140864, 0.00669784]),\n",
              " 'mean_score_time': array([0.02258415, 0.01558664, 0.01186979]),\n",
              " 'std_score_time': array([0.00470537, 0.00634156, 0.00469844]),\n",
              " 'param_clf__alpha': masked_array(data=[0.1, 0.5, 1],\n",
              "              mask=[False, False, False],\n",
              "        fill_value='?',\n",
              "             dtype=object),\n",
              " 'params': [{'clf__alpha': 0.1}, {'clf__alpha': 0.5}, {'clf__alpha': 1}],\n",
              " 'split0_test_score': array([0.833028  , 0.83299062, 0.83299062]),\n",
              " 'split1_test_score': array([0.83859872, 0.83800052, 0.83781359]),\n",
              " 'split2_test_score': array([0.8383744 , 0.83800052, 0.83796314]),\n",
              " 'split3_test_score': array([0.83646764, 0.83616854, 0.83594422]),\n",
              " 'split4_test_score': array([0.83041089, 0.8297753 , 0.82932665]),\n",
              " 'split5_test_score': array([0.83908476, 0.83882305, 0.83844917]),\n",
              " 'split6_test_score': array([0.8351217 , 0.83527125, 0.83542079]),\n",
              " 'split7_test_score': array([0.83800052, 0.83800052, 0.83785097]),\n",
              " 'split8_test_score': array([0.83003066, 0.82999327, 0.82984371]),\n",
              " 'split9_test_score': array([0.83477903, 0.8338817 , 0.83444253]),\n",
              " 'mean_test_score': array([0.83538963, 0.83509053, 0.83500454]),\n",
              " 'std_test_score': array([0.0031681 , 0.00317231, 0.00317667]),\n",
              " 'rank_test_score': array([1, 2, 3], dtype=int32)}"
            ]
          },
          "metadata": {},
          "execution_count": 47
        }
      ],
      "source": [
        "naive_bayes_grid.cv_results_"
      ]
    },
    {
      "cell_type": "code",
      "execution_count": null,
      "metadata": {
        "id": "jh-99TW7HmtP",
        "colab": {
          "base_uri": "https://localhost:8080/"
        },
        "outputId": "988c1520-fc73-4928-86e7-48e0a92bae6d"
      },
      "outputs": [
        {
          "output_type": "execute_result",
          "data": {
            "text/plain": [
              "{'mean_fit_time': array([19.90862124, 17.71795382, 49.17122972, 30.29245598, 75.28738809,\n",
              "        49.30718274]),\n",
              " 'std_fit_time': array([3.02302445, 1.6168544 , 5.32330672, 0.60281435, 5.57671829,\n",
              "        1.440132  ]),\n",
              " 'mean_score_time': array([0.01845295, 0.01821711, 0.01615629, 0.01586685, 0.01516492,\n",
              "        0.01559463]),\n",
              " 'std_score_time': array([0.00855246, 0.00921899, 0.005563  , 0.00700278, 0.00301724,\n",
              "        0.00520226]),\n",
              " 'param_clf__C': masked_array(data=[0.1, 0.1, 1, 1, 10, 10],\n",
              "              mask=[False, False, False, False, False, False],\n",
              "        fill_value='?',\n",
              "             dtype=object),\n",
              " 'param_clf__penalty': masked_array(data=['l1', 'l2', 'l1', 'l2', 'l1', 'l2'],\n",
              "              mask=[False, False, False, False, False, False],\n",
              "        fill_value='?',\n",
              "             dtype=object),\n",
              " 'param_clf__solver': masked_array(data=['liblinear', 'liblinear', 'liblinear', 'liblinear',\n",
              "                    'liblinear', 'liblinear'],\n",
              "              mask=[False, False, False, False, False, False],\n",
              "        fill_value='?',\n",
              "             dtype=object),\n",
              " 'params': [{'clf__C': 0.1, 'clf__penalty': 'l1', 'clf__solver': 'liblinear'},\n",
              "  {'clf__C': 0.1, 'clf__penalty': 'l2', 'clf__solver': 'liblinear'},\n",
              "  {'clf__C': 1, 'clf__penalty': 'l1', 'clf__solver': 'liblinear'},\n",
              "  {'clf__C': 1, 'clf__penalty': 'l2', 'clf__solver': 'liblinear'},\n",
              "  {'clf__C': 10, 'clf__penalty': 'l1', 'clf__solver': 'liblinear'},\n",
              "  {'clf__C': 10, 'clf__penalty': 'l2', 'clf__solver': 'liblinear'}],\n",
              " 'split0_test_score': array([0.85082439, 0.8581897 , 0.872696  , 0.87176132, 0.87378024,\n",
              "        0.87348114]),\n",
              " 'split1_test_score': array([0.85362844, 0.85983475, 0.87127528, 0.87153699, 0.87318204,\n",
              "        0.8732942 ]),\n",
              " 'split2_test_score': array([0.85538565, 0.86211538, 0.87471492, 0.87441582, 0.87576177,\n",
              "        0.87576177]),\n",
              " 'split3_test_score': array([0.85310502, 0.85964781, 0.8732942 , 0.87228474, 0.87430366,\n",
              "        0.87456537]),\n",
              " 'split4_test_score': array([0.84888025, 0.85792799, 0.8688451 , 0.86903204, 0.87090141,\n",
              "        0.87056492]),\n",
              " 'split5_test_score': array([0.85366583, 0.86215276, 0.87598609, 0.87576177, 0.87740681,\n",
              "        0.87658429]),\n",
              " 'split6_test_score': array([0.85299286, 0.86005907, 0.87247168, 0.87097618, 0.87303249,\n",
              "        0.87224735]),\n",
              " 'split7_test_score': array([0.85299286, 0.86039556, 0.87187348, 0.87153699, 0.87422889,\n",
              "        0.87407934]),\n",
              " 'split8_test_score': array([0.84846332, 0.85463247, 0.86667165, 0.86611082, 0.86775593,\n",
              "        0.86779331]),\n",
              " 'split9_test_score': array([0.85250131, 0.86042773, 0.87127047, 0.87179391, 0.87358857,\n",
              "        0.87381291]),\n",
              " 'mean_test_score': array([0.85224399, 0.85953832, 0.87190989, 0.87152106, 0.87339418,\n",
              "        0.87321846]),\n",
              " 'std_test_score': array([0.00208233, 0.00209411, 0.00254909, 0.00250683, 0.00248188,\n",
              "        0.00241241]),\n",
              " 'rank_test_score': array([6, 5, 3, 4, 1, 2], dtype=int32)}"
            ]
          },
          "metadata": {},
          "execution_count": 48
        }
      ],
      "source": [
        "logistic_regression_grid.cv_results_"
      ]
    },
    {
      "cell_type": "code",
      "execution_count": null,
      "metadata": {
        "id": "1mdd59vnHmdW",
        "colab": {
          "base_uri": "https://localhost:8080/"
        },
        "outputId": "bdaaf14b-6f39-4672-8fa4-64fb4d3cb525"
      },
      "outputs": [
        {
          "output_type": "execute_result",
          "data": {
            "text/plain": [
              "{'mean_fit_time': array([ 21.90948544, 152.59852343, 407.69125435]),\n",
              " 'std_fit_time': array([ 1.73474894, 16.18291096,  9.09684892]),\n",
              " 'mean_score_time': array([0.01699262, 0.01348372, 0.01687465]),\n",
              " 'std_score_time': array([0.01015798, 0.0020902 , 0.0064426 ]),\n",
              " 'param_clf__C': masked_array(data=[0.1, 1, 10],\n",
              "              mask=[False, False, False],\n",
              "        fill_value='?',\n",
              "             dtype=object),\n",
              " 'params': [{'clf__C': 0.1}, {'clf__C': 1}, {'clf__C': 10}],\n",
              " 'split0_test_score': array([0.86936853, 0.87019105, 0.87037799]),\n",
              " 'split1_test_score': array([0.86981718, 0.87007889, 0.86977979]),\n",
              " 'split2_test_score': array([0.87265862, 0.87501402, 0.87527573]),\n",
              " 'split3_test_score': array([0.8700415 , 0.87131267, 0.87142483]),\n",
              " 'split4_test_score': array([0.86607844, 0.86761132, 0.86802258]),\n",
              " 'split5_test_score': array([0.87288294, 0.87482708, 0.87505141]),\n",
              " 'split6_test_score': array([0.86933114, 0.87052754, 0.87041537]),\n",
              " 'split7_test_score': array([0.87078925, 0.87284555, 0.87318204]),\n",
              " 'split8_test_score': array([0.86371794, 0.86667165, 0.86689598]),\n",
              " 'split9_test_score': array([0.86861587, 0.8701862 , 0.8698497 ]),\n",
              " 'mean_test_score': array([0.86933014, 0.8709266 , 0.87102754]),\n",
              " 'std_test_score': array([0.00262974, 0.00258486, 0.00262448]),\n",
              " 'rank_test_score': array([3, 2, 1], dtype=int32)}"
            ]
          },
          "metadata": {},
          "execution_count": 49
        }
      ],
      "source": [
        "svm_grid.cv_results_"
      ]
    }
  ],
  "metadata": {
    "colab": {
      "provenance": []
    },
    "kernelspec": {
      "display_name": "Python 3",
      "name": "python3"
    },
    "language_info": {
      "name": "python"
    }
  },
  "nbformat": 4,
  "nbformat_minor": 0
}