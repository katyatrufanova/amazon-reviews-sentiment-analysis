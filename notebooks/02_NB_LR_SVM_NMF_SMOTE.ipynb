{
  "nbformat": 4,
  "nbformat_minor": 0,
  "metadata": {
    "colab": {
      "provenance": []
    },
    "kernelspec": {
      "name": "python3",
      "display_name": "Python 3"
    },
    "language_info": {
      "name": "python"
    }
  },
  "cells": [
    {
      "cell_type": "code",
      "source": [
        "import numpy as np\n",
        "import pandas as pd\n",
        "import re\n",
        "import nltk\n",
        "from nltk.corpus import stopwords\n",
        "from sklearn.decomposition import TruncatedSVD\n",
        "from sklearn.feature_extraction.text import TfidfVectorizer\n",
        "from sklearn.preprocessing import LabelEncoder\n",
        "from sklearn.naive_bayes import MultinomialNB\n",
        "from sklearn.linear_model import LogisticRegression\n",
        "from sklearn.model_selection import train_test_split, GridSearchCV, RepeatedKFold\n",
        "from sklearn.pipeline import Pipeline\n",
        "from sklearn.metrics import classification_report, make_scorer, accuracy_score\n",
        "from scipy.stats import ttest_rel\n",
        "from imblearn.over_sampling import SMOTE\n",
        "from imblearn.pipeline import make_pipeline as make_imb_pipeline"
      ],
      "metadata": {
        "id": "rVEZBH5vASk9"
      },
      "execution_count": null,
      "outputs": []
    },
    {
      "cell_type": "code",
      "source": [
        "from google.colab import drive\n",
        "drive.mount('/content/drive')"
      ],
      "metadata": {
        "colab": {
          "base_uri": "https://localhost:8080/"
        },
        "id": "-HCoVpfGASea",
        "outputId": "4831c787-7ce5-4529-cc50-6ee9217934fd"
      },
      "execution_count": null,
      "outputs": [
        {
          "output_type": "stream",
          "name": "stdout",
          "text": [
            "Mounted at /content/drive\n"
          ]
        }
      ]
    },
    {
      "cell_type": "code",
      "source": [
        "file_path = '/content/drive/MyDrive/ML/Amazon_Unlocked_Mobile.csv'\n",
        "data = pd.read_csv(file_path)"
      ],
      "metadata": {
        "id": "0RwLEv-wAR5A"
      },
      "execution_count": null,
      "outputs": []
    },
    {
      "cell_type": "code",
      "source": [
        "data = data.dropna()"
      ],
      "metadata": {
        "id": "ESqTPueOARxM"
      },
      "execution_count": null,
      "outputs": []
    },
    {
      "cell_type": "code",
      "source": [
        "def clean_text(text):\n",
        "    text = re.sub(r'<.*?>', '', text)\n",
        "    text = re.sub(r'\\d+', '', text)\n",
        "    text = text.lower()\n",
        "    text = re.sub(r'[^\\w\\s]', '', text)\n",
        "    text = \" \".join([word for word in text.split() if word not in stopwords.words('english')])\n",
        "    return text"
      ],
      "metadata": {
        "id": "bcp1rHbCARmG"
      },
      "execution_count": null,
      "outputs": []
    },
    {
      "cell_type": "code",
      "source": [
        "nltk.download('stopwords')"
      ],
      "metadata": {
        "colab": {
          "base_uri": "https://localhost:8080/"
        },
        "id": "Eqdlsh5rAXD7",
        "outputId": "b66771cb-b976-40a2-8f72-7970a37a4ae6"
      },
      "execution_count": null,
      "outputs": [
        {
          "output_type": "stream",
          "name": "stderr",
          "text": [
            "[nltk_data] Downloading package stopwords to /root/nltk_data...\n",
            "[nltk_data]   Unzipping corpora/stopwords.zip.\n"
          ]
        },
        {
          "output_type": "execute_result",
          "data": {
            "text/plain": [
              "True"
            ]
          },
          "metadata": {},
          "execution_count": 6
        }
      ]
    },
    {
      "cell_type": "code",
      "source": [
        "data['CleanedReviews'] = data['Reviews'].apply(clean_text)"
      ],
      "metadata": {
        "id": "f2de3PBjAbC3"
      },
      "execution_count": null,
      "outputs": []
    },
    {
      "cell_type": "code",
      "source": [
        "def sentiment(rating):\n",
        "    if rating < 3:\n",
        "        return 'negative'\n",
        "    elif rating == 3:\n",
        "        return 'neutral'\n",
        "    else:\n",
        "        return 'positive'"
      ],
      "metadata": {
        "id": "99pbJrowAa7V"
      },
      "execution_count": null,
      "outputs": []
    },
    {
      "cell_type": "code",
      "source": [
        "data['Sentiment'] = data['Rating'].apply(sentiment)"
      ],
      "metadata": {
        "id": "cr0oAh1xAW96"
      },
      "execution_count": null,
      "outputs": []
    },
    {
      "cell_type": "code",
      "source": [
        "X = data['CleanedReviews']\n",
        "y = data['Sentiment']"
      ],
      "metadata": {
        "id": "FoMZ8z7jAWyb"
      },
      "execution_count": null,
      "outputs": []
    },
    {
      "cell_type": "code",
      "source": [
        "X_train, X_test, y_train, y_test = train_test_split(X, y, test_size=0.2, random_state=42)\n",
        "\n",
        "vectorizer = TfidfVectorizer(stop_words='english', ngram_range=(1,2), max_features=5000)\n",
        "X_train_tfidf = vectorizer.fit_transform(X_train)\n",
        "X_test_tfidf = vectorizer.transform(X_test)\n",
        "\n",
        "label_encoder = LabelEncoder()\n",
        "y_train_encoded = label_encoder.fit_transform(y_train)\n",
        "y_test_encoded = label_encoder.transform(y_test)\n",
        "\n",
        "cv = RepeatedKFold(n_splits=10, n_repeats=1, random_state=42)\n",
        "scoring = make_scorer(accuracy_score)"
      ],
      "metadata": {
        "id": "85NaS0SuCiBX"
      },
      "execution_count": null,
      "outputs": []
    },
    {
      "cell_type": "code",
      "source": [
        "from sklearn.decomposition import NMF"
      ],
      "metadata": {
        "id": "x4FPgSywQW2f"
      },
      "execution_count": null,
      "outputs": []
    },
    {
      "cell_type": "code",
      "source": [
        "# Dimensionality reduction\n",
        "nmf = NMF(n_components=100, random_state=42)\n",
        "X_train_nmf = nmf.fit_transform(X_train_tfidf)\n",
        "X_test_nmf = nmf.transform(X_test_tfidf)"
      ],
      "metadata": {
        "id": "kO5wXvi1QY5y"
      },
      "execution_count": null,
      "outputs": []
    },
    {
      "cell_type": "code",
      "source": [
        "# Handle imbalanced data\n",
        "smote = SMOTE(random_state=42)"
      ],
      "metadata": {
        "id": "bt1sUYgRCl3M"
      },
      "execution_count": null,
      "outputs": []
    },
    {
      "cell_type": "markdown",
      "source": [
        "##Naive Bayes"
      ],
      "metadata": {
        "id": "a_mmwWFICpXe"
      }
    },
    {
      "cell_type": "code",
      "source": [
        "naive_bayes_pipeline = make_imb_pipeline(\n",
        "    smote,\n",
        "    MultinomialNB()\n",
        ")\n",
        "\n",
        "naive_bayes_param_grid = {\n",
        "    'multinomialnb__alpha': [0.1, 0.5, 1]\n",
        "}\n",
        "\n",
        "naive_bayes_grid = GridSearchCV(naive_bayes_pipeline, param_grid=naive_bayes_param_grid, cv=cv, n_jobs=-1, scoring=scoring)\n",
        "naive_bayes_grid.fit(X_train_nmf, y_train_encoded)\n",
        "\n",
        "y_pred_nb = naive_bayes_grid.predict(X_test_nmf)\n",
        "print('Naive Bayes Classification Report:')\n",
        "print(classification_report(y_test_encoded, y_pred_nb, target_names=label_encoder.classes_))"
      ],
      "metadata": {
        "colab": {
          "base_uri": "https://localhost:8080/"
        },
        "id": "Y6U4i16gClwK",
        "outputId": "eb6a4738-b4cd-411a-c846-03c442dc2573"
      },
      "execution_count": null,
      "outputs": [
        {
          "output_type": "stream",
          "name": "stdout",
          "text": [
            "Naive Bayes Classification Report:\n",
            "              precision    recall  f1-score   support\n",
            "\n",
            "    negative       0.60      0.76      0.67     15609\n",
            "     neutral       0.16      0.50      0.25      5228\n",
            "    positive       0.95      0.64      0.77     46030\n",
            "\n",
            "    accuracy                           0.66     66867\n",
            "   macro avg       0.57      0.63      0.56     66867\n",
            "weighted avg       0.81      0.66      0.70     66867\n",
            "\n"
          ]
        }
      ]
    },
    {
      "cell_type": "markdown",
      "source": [
        "##Logistic Regression"
      ],
      "metadata": {
        "id": "LTfrCigyCsD7"
      }
    },
    {
      "cell_type": "code",
      "source": [
        "logistic_regression_pipeline = make_imb_pipeline(\n",
        "    smote,\n",
        "    LogisticRegression(max_iter=1000)\n",
        ")\n",
        "\n",
        "logistic_regression_param_grid = {\n",
        "    'logisticregression__C': [0.1, 1, 10],\n",
        "    'logisticregression__penalty': ['l1', 'l2'],\n",
        "    'logisticregression__solver': ['liblinear']\n",
        "}\n",
        "\n",
        "logistic_regression_grid = GridSearchCV(logistic_regression_pipeline, param_grid=logistic_regression_param_grid, cv=cv, n_jobs=-1, scoring=scoring)\n",
        "logistic_regression_grid.fit(X_train_nmf, y_train_encoded)\n",
        "\n",
        "y_pred_lr = logistic_regression_grid.predict(X_test_nmf)\n",
        "print('Logistic Regression Classification Report:')\n",
        "print(classification_report(y_test_encoded, y_pred_lr, target_names=label_encoder.classes_))"
      ],
      "metadata": {
        "colab": {
          "base_uri": "https://localhost:8080/"
        },
        "id": "1UgVcfkwClnx",
        "outputId": "f2b093db-1efe-47b6-b292-b1d0634a2ad0"
      },
      "execution_count": null,
      "outputs": [
        {
          "output_type": "stream",
          "name": "stdout",
          "text": [
            "Logistic Regression Classification Report:\n",
            "              precision    recall  f1-score   support\n",
            "\n",
            "    negative       0.63      0.74      0.68     15609\n",
            "     neutral       0.19      0.47      0.27      5228\n",
            "    positive       0.94      0.73      0.82     46030\n",
            "\n",
            "    accuracy                           0.71     66867\n",
            "   macro avg       0.59      0.65      0.59     66867\n",
            "weighted avg       0.81      0.71      0.75     66867\n",
            "\n"
          ]
        }
      ]
    },
    {
      "cell_type": "markdown",
      "source": [
        "##SVM"
      ],
      "metadata": {
        "id": "ToOJN8nJCvlb"
      }
    },
    {
      "cell_type": "code",
      "source": [
        "from sklearn.svm import LinearSVC"
      ],
      "metadata": {
        "id": "BlH_zF8VmKnJ"
      },
      "execution_count": null,
      "outputs": []
    },
    {
      "cell_type": "code",
      "execution_count": null,
      "metadata": {
        "colab": {
          "base_uri": "https://localhost:8080/"
        },
        "id": "fYrSsCS5_ggc",
        "outputId": "83cb05a1-900c-4885-f893-299712d28012"
      },
      "outputs": [
        {
          "output_type": "stream",
          "name": "stdout",
          "text": [
            "SVM Classification Report:\n",
            "              precision    recall  f1-score   support\n",
            "\n",
            "    negative       0.63      0.74      0.68     15609\n",
            "     neutral       0.19      0.47      0.27      5228\n",
            "    positive       0.94      0.73      0.82     46030\n",
            "\n",
            "    accuracy                           0.71     66867\n",
            "   macro avg       0.59      0.65      0.59     66867\n",
            "weighted avg       0.81      0.71      0.75     66867\n",
            "\n"
          ]
        }
      ],
      "source": [
        "svm_pipeline = make_imb_pipeline(\n",
        "    smote,\n",
        "    LinearSVC(max_iter=1000)\n",
        ")\n",
        "\n",
        "svm_param_grid = {\n",
        "    'linearsvc__C': [0.1, 1, 10]\n",
        "}\n",
        "\n",
        "svm_grid = GridSearchCV(svm_pipeline, param_grid=svm_param_grid, cv=cv, n_jobs=-1, scoring=scoring)\n",
        "svm_grid.fit(X_train_nmf, y_train_encoded)\n",
        "\n",
        "\n",
        "y_pred_svm = logistic_regression_grid.predict(X_test_nmf)\n",
        "print('SVM Classification Report:')\n",
        "print(classification_report(y_test_encoded, y_pred_svm, target_names=label_encoder.classes_))\n"
      ]
    },
    {
      "cell_type": "code",
      "source": [
        "naive_bayes_grid.cv_results_"
      ],
      "metadata": {
        "colab": {
          "base_uri": "https://localhost:8080/"
        },
        "id": "JeoO6sm_KjuA",
        "outputId": "96292b67-ed56-4195-dd5b-845c5c100df4"
      },
      "execution_count": null,
      "outputs": [
        {
          "output_type": "execute_result",
          "data": {
            "text/plain": [
              "{'mean_fit_time': array([81.48358977, 81.06451187, 80.84771378]),\n",
              " 'std_fit_time': array([1.571016  , 1.37620287, 2.18979706]),\n",
              " 'mean_score_time': array([0.02157073, 0.01925163, 0.01694925]),\n",
              " 'std_score_time': array([0.00460561, 0.00437758, 0.00406248]),\n",
              " 'param_multinomialnb__alpha': masked_array(data=[0.1, 0.5, 1],\n",
              "              mask=[False, False, False],\n",
              "        fill_value='?',\n",
              "             dtype=object),\n",
              " 'params': [{'multinomialnb__alpha': 0.1},\n",
              "  {'multinomialnb__alpha': 0.5},\n",
              "  {'multinomialnb__alpha': 1}],\n",
              " 'split0_test_score': array([0.65786817, 0.65775601, 0.6574943 ]),\n",
              " 'split1_test_score': array([0.65158709, 0.65136277, 0.65110106]),\n",
              " 'split2_test_score': array([0.65562493, 0.65528844, 0.65517628]),\n",
              " 'split3_test_score': array([0.65416682, 0.65409205, 0.65379295]),\n",
              " 'split4_test_score': array([0.65999925, 0.66007403, 0.66067222]),\n",
              " 'split5_test_score': array([0.65812988, 0.65820466, 0.65768124]),\n",
              " 'split6_test_score': array([0.65491457, 0.65476502, 0.6545407 ]),\n",
              " 'split7_test_score': array([0.65966277, 0.6598497 , 0.6595506 ]),\n",
              " 'split8_test_score': array([0.65209751, 0.65206012, 0.6517984 ]),\n",
              " 'split9_test_score': array([0.66159426, 0.66129515, 0.66095865]),\n",
              " 'mean_test_score': array([0.65656453, 0.65647479, 0.65627664]),\n",
              " 'std_test_score': array([0.00323925, 0.00328397, 0.00335635]),\n",
              " 'rank_test_score': array([1, 2, 3], dtype=int32)}"
            ]
          },
          "metadata": {},
          "execution_count": 24
        }
      ]
    },
    {
      "cell_type": "code",
      "source": [
        "logistic_regression_grid.cv_results_"
      ],
      "metadata": {
        "colab": {
          "base_uri": "https://localhost:8080/"
        },
        "id": "LqO72hDlKr-N",
        "outputId": "8e3ee9f7-6db1-44e0-d43c-acd752402726"
      },
      "execution_count": null,
      "outputs": [
        {
          "output_type": "execute_result",
          "data": {
            "text/plain": [
              "{'mean_fit_time': array([108.77438936,  94.7413918 , 114.90401936, 103.76044507,\n",
              "        116.74946494, 112.88734701]),\n",
              " 'std_fit_time': array([2.78675874, 1.48611977, 3.27518111, 1.80419136, 4.77597841,\n",
              "        2.28772701]),\n",
              " 'mean_score_time': array([0.02471251, 0.01785779, 0.02674751, 0.01927283, 0.01794608,\n",
              "        0.01806889]),\n",
              " 'std_score_time': array([0.01049227, 0.00372696, 0.00907771, 0.00641793, 0.00313742,\n",
              "        0.00393502]),\n",
              " 'param_logisticregression__C': masked_array(data=[0.1, 0.1, 1, 1, 10, 10],\n",
              "              mask=[False, False, False, False, False, False],\n",
              "        fill_value='?',\n",
              "             dtype=object),\n",
              " 'param_logisticregression__penalty': masked_array(data=['l1', 'l2', 'l1', 'l2', 'l1', 'l2'],\n",
              "              mask=[False, False, False, False, False, False],\n",
              "        fill_value='?',\n",
              "             dtype=object),\n",
              " 'param_logisticregression__solver': masked_array(data=['liblinear', 'liblinear', 'liblinear', 'liblinear',\n",
              "                    'liblinear', 'liblinear'],\n",
              "              mask=[False, False, False, False, False, False],\n",
              "        fill_value='?',\n",
              "             dtype=object),\n",
              " 'params': [{'logisticregression__C': 0.1,\n",
              "   'logisticregression__penalty': 'l1',\n",
              "   'logisticregression__solver': 'liblinear'},\n",
              "  {'logisticregression__C': 0.1,\n",
              "   'logisticregression__penalty': 'l2',\n",
              "   'logisticregression__solver': 'liblinear'},\n",
              "  {'logisticregression__C': 1,\n",
              "   'logisticregression__penalty': 'l1',\n",
              "   'logisticregression__solver': 'liblinear'},\n",
              "  {'logisticregression__C': 1,\n",
              "   'logisticregression__penalty': 'l2',\n",
              "   'logisticregression__solver': 'liblinear'},\n",
              "  {'logisticregression__C': 10,\n",
              "   'logisticregression__penalty': 'l1',\n",
              "   'logisticregression__solver': 'liblinear'},\n",
              "  {'logisticregression__C': 10,\n",
              "   'logisticregression__penalty': 'l2',\n",
              "   'logisticregression__solver': 'liblinear'}],\n",
              " 'split0_test_score': array([0.70920103, 0.68149699, 0.70976184, 0.69791005, 0.71058436,\n",
              "        0.70643437]),\n",
              " 'split1_test_score': array([0.70538752, 0.67551501, 0.70800464, 0.69439563, 0.70744383,\n",
              "        0.70381725]),\n",
              " 'split2_test_score': array([0.70822896, 0.67869294, 0.71092085, 0.69906905, 0.71050959,\n",
              "        0.70785509]),\n",
              " 'split3_test_score': array([0.70635959, 0.6791042 , 0.70875238, 0.69832131, 0.70837851,\n",
              "        0.70628482]),\n",
              " 'split4_test_score': array([0.71207986, 0.68306726, 0.71290238, 0.70045239, 0.71379968,\n",
              "        0.70964968]),\n",
              " 'split5_test_score': array([0.70979923, 0.68074924, 0.71215463, 0.69959248, 0.71189292,\n",
              "        0.70744383]),\n",
              " 'split6_test_score': array([0.70591094, 0.68007627, 0.70905148, 0.69641455, 0.70856545,\n",
              "        0.70471455]),\n",
              " 'split7_test_score': array([0.70927581, 0.6811605 , 0.71144427, 0.70045239, 0.71178076,\n",
              "        0.7081168 ]),\n",
              " 'split8_test_score': array([0.70567562, 0.67546549, 0.70960144, 0.69393554, 0.71008749,\n",
              "        0.70492784]),\n",
              " 'split9_test_score': array([0.70967621, 0.68578479, 0.71229343, 0.70287146, 0.71229343,\n",
              "        0.70945188]),\n",
              " 'mean_test_score': array([0.70815948, 0.68011127, 0.71048873, 0.69834148, 0.7105336 ,\n",
              "        0.70686961]),\n",
              " 'std_test_score': array([0.00211762, 0.00300151, 0.00159764, 0.00265346, 0.0018824 ,\n",
              "        0.00188458]),\n",
              " 'rank_test_score': array([3, 6, 2, 5, 1, 4], dtype=int32)}"
            ]
          },
          "metadata": {},
          "execution_count": 25
        }
      ]
    },
    {
      "cell_type": "code",
      "source": [
        "svm_grid.cv_results_"
      ],
      "metadata": {
        "colab": {
          "base_uri": "https://localhost:8080/"
        },
        "id": "oMpdYHytKtcN",
        "outputId": "d2a8b7cf-db0c-4dfa-ca2b-2d5613856ddd"
      },
      "execution_count": null,
      "outputs": [
        {
          "output_type": "execute_result",
          "data": {
            "text/plain": [
              "{'mean_fit_time': array([101.65897124, 138.78668487, 486.85566885]),\n",
              " 'std_fit_time': array([ 1.78086606,  1.12009002, 42.77678579]),\n",
              " 'mean_score_time': array([0.02350414, 0.02026355, 0.02046311]),\n",
              " 'std_score_time': array([0.00761205, 0.00595432, 0.00946834]),\n",
              " 'param_linearsvc__C': masked_array(data=[0.1, 1, 10],\n",
              "              mask=[False, False, False],\n",
              "        fill_value='?',\n",
              "             dtype=object),\n",
              " 'params': [{'linearsvc__C': 0.1}, {'linearsvc__C': 1}, {'linearsvc__C': 10}],\n",
              " 'split0_test_score': array([0.70007851, 0.70733166, 0.70968707]),\n",
              " 'split1_test_score': array([0.69753617, 0.70628482, 0.70744383]),\n",
              " 'split2_test_score': array([0.70164878, 0.70908887, 0.71065914]),\n",
              " 'split3_test_score': array([0.70138707, 0.70856545, 0.70998617]),\n",
              " 'split4_test_score': array([0.70299473, 0.71080869, 0.71312671]),\n",
              " 'split5_test_score': array([0.70179833, 0.7090141 , 0.7116686 ]),\n",
              " 'split6_test_score': array([0.69791005, 0.70725689, 0.70837851]),\n",
              " 'split7_test_score': array([0.70318167, 0.70957491, 0.71155644]),\n",
              " 'split8_test_score': array([0.69644059, 0.70533912, 0.70933971]),\n",
              " 'split9_test_score': array([0.70451656, 0.71191954, 0.71341509]),\n",
              " 'mean_test_score': array([0.70074925, 0.7085184 , 0.71052613]),\n",
              " 'std_test_score': array([0.00254691, 0.00191309, 0.00184417]),\n",
              " 'rank_test_score': array([3, 2, 1], dtype=int32)}"
            ]
          },
          "metadata": {},
          "execution_count": 26
        }
      ]
    }
  ]
}